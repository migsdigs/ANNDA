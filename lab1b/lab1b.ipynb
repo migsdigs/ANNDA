{
 "cells": [
  {
   "cell_type": "markdown",
   "metadata": {},
   "source": [
    "# Lab1b"
   ]
  },
  {
   "cell_type": "markdown",
   "metadata": {},
   "source": [
    "### Imports"
   ]
  },
  {
   "cell_type": "code",
   "execution_count": 5,
   "metadata": {},
   "outputs": [],
   "source": [
    "import numpy as np\n",
    "import lab1b\n",
    "import matplotlib as plt\n",
    "from lab1b import *"
   ]
  },
  {
   "cell_type": "markdown",
   "metadata": {},
   "source": [
    "## Architecture and Neural Network Parameters"
   ]
  },
  {
   "cell_type": "code",
   "execution_count": 4,
   "metadata": {},
   "outputs": [],
   "source": [
    "# Architecture - Number of layers and number of nodes per layer\n",
    "arch = [\n",
    "    2,  # Input Dimension\n",
    "    7,  # Hidden Layer Dimension\n",
    "    1   # Output Layer Dimension\n",
    "]\n",
    "\n",
    "# Neural Net Parameters\n",
    "lr = 0.005          # Learning Rate\n",
    "epochs = 500         # Number of Epochs\n",
    "\n",
    "momentum = True     # Momentum toggle\n",
    "alpha = 0.9         # Parameter to comtrol momentum"
   ]
  },
  {
   "cell_type": "code",
   "execution_count": null,
   "metadata": {},
   "outputs": [],
   "source": [
    "# Activation Function\n",
    "def activation_func(x):\n",
    "    return (2/(1 + np.exp(-x))) - 1\n",
    "\n",
    "def activation_func_der(x):\n",
    "    return 0.5*(1 + activation_func(x))*(1 - activation_func(x))"
   ]
  },
  {
   "cell_type": "markdown",
   "metadata": {},
   "source": [
    "## Data Generation"
   ]
  },
  {
   "cell_type": "code",
   "execution_count": null,
   "metadata": {},
   "outputs": [],
   "source": [
    "# Number of Samples per Class\n",
    "N = 100\n",
    "mean_A1, mean_A2, cov_A = (-1,0.3), (1,0.3), [[0.2**2, 0], [0, 0.2**2]]\n",
    "mean_B, cov_B = (0,-0.1), [[0.3**2, 0], [0, 0.3**2]]\n",
    "\n",
    "# Generate Data Samples\n",
    "X_A, X_B = lab1b.gen_data_clusters(N, mean_A1, mean_A2, cov_A, mean_B, cov_B)\n",
    "\n",
    "# Subsample Data"
   ]
  }
 ],
 "metadata": {
  "interpreter": {
   "hash": "b27dcba423dc309230a6e7d4f55941b7f1da8eb2d4014338d63861e729f45991"
  },
  "kernelspec": {
   "display_name": "Python 3.8.0 64-bit",
   "language": "python",
   "name": "python3"
  },
  "language_info": {
   "codemirror_mode": {
    "name": "ipython",
    "version": 3
   },
   "file_extension": ".py",
   "mimetype": "text/x-python",
   "name": "python",
   "nbconvert_exporter": "python",
   "pygments_lexer": "ipython3",
   "version": "3.8.0"
  },
  "orig_nbformat": 4
 },
 "nbformat": 4,
 "nbformat_minor": 2
}
