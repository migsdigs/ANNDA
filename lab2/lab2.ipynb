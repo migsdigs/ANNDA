{
 "cells": [
  {
   "cell_type": "markdown",
   "metadata": {},
   "source": [
    "# Lab 2"
   ]
  },
  {
   "cell_type": "code",
   "execution_count": 4,
   "metadata": {},
   "outputs": [],
   "source": [
    "import numpy as np\n",
    "import matplotlib.pyplot as plt\n",
    "import lab2"
   ]
  },
  {
   "cell_type": "markdown",
   "metadata": {},
   "source": [
    "### Batch Mode Training using Least Squares"
   ]
  },
  {
   "cell_type": "markdown",
   "metadata": {},
   "source": [
    "#### Generate Data"
   ]
  },
  {
   "cell_type": "code",
   "execution_count": 5,
   "metadata": {},
   "outputs": [],
   "source": [
    "N = int(2*np.pi/0.1)    # Number of Samples (62)\n",
    "\n",
    "# Training Data (Note these are all row vectors)\n",
    "x_train = np.linspace(0,2*np.pi,N)\n",
    "f_sine_train = np.sin(2*x_train)\n",
    "f_square_train = np.sign(f_sine_train)\n",
    "\n",
    "# Test Data\n",
    "x_test = np.linspace(0.05, 2*np.pi, N)\n",
    "f_sine_test = np.sin(2*x_test)\n",
    "f_square_test = np.sign(f_sine_test)"
   ]
  },
  {
   "cell_type": "markdown",
   "metadata": {},
   "source": [
    "### RBF"
   ]
  },
  {
   "cell_type": "code",
   "execution_count": 6,
   "metadata": {},
   "outputs": [
    {
     "data": {
      "text/plain": [
       "(62, 30)"
      ]
     },
     "execution_count": 6,
     "metadata": {},
     "output_type": "execute_result"
    }
   ],
   "source": [
    "N_RBF = 30  # Number of RBF Nodes\n",
    "\n",
    "# Manual Placement of RBF Nodes\n",
    "mu = np.linspace(0,2*np.pi,N_RBF)   # Even space mu points on interval\n",
    "sigma = (0.1)*np.ones(N_RBF)                # Same variance for every node (Gaussian Ball around node centre)\n",
    "\n",
    "# Create RBF Model\n",
    "Network = lab2.Network(N_RBF, mu, sigma)\n",
    "phi = Network.RBF(x_train)  # Compute Phi Matrix (n_samples x n_rbf)\n"
   ]
  },
  {
   "cell_type": "markdown",
   "metadata": {},
   "source": [
    "#### Sine Function Approximation"
   ]
  },
  {
   "cell_type": "code",
   "execution_count": 7,
   "metadata": {},
   "outputs": [
    {
     "data": {
      "text/plain": [
       "(30,)"
      ]
     },
     "execution_count": 7,
     "metadata": {},
     "output_type": "execute_result"
    }
   ],
   "source": [
    "f = f_sine_train\n",
    "\n",
    "np.shape(f)\n",
    "w = Network.lms(phi, f)\n",
    "np.shape(w)"
   ]
  },
  {
   "cell_type": "code",
   "execution_count": null,
   "metadata": {},
   "outputs": [],
   "source": []
  }
 ],
 "metadata": {
  "interpreter": {
   "hash": "b27dcba423dc309230a6e7d4f55941b7f1da8eb2d4014338d63861e729f45991"
  },
  "kernelspec": {
   "display_name": "Python 3.8.0 64-bit",
   "language": "python",
   "name": "python3"
  },
  "language_info": {
   "codemirror_mode": {
    "name": "ipython",
    "version": 3
   },
   "file_extension": ".py",
   "mimetype": "text/x-python",
   "name": "python",
   "nbconvert_exporter": "python",
   "pygments_lexer": "ipython3",
   "version": "3.8.0"
  },
  "orig_nbformat": 4
 },
 "nbformat": 4,
 "nbformat_minor": 2
}
